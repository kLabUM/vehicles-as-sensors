{
 "cells": [
  {
   "cell_type": "code",
   "execution_count": 1,
   "metadata": {
    "collapsed": true
   },
   "outputs": [],
   "source": [
    "import os\n",
    "import sys\n",
    "import numpy as np\n",
    "import pandas as pd\n",
    "import netCDF4 as nc\n",
    "from scipy import spatial\n",
    "from scipy import stats\n",
    "import datetime\n",
    "from matplotlib import pyplot as plt\n",
    "import seaborn as sns\n",
    "\n",
    "import read_data, concatenation, radar"
   ]
  },
  {
   "cell_type": "code",
   "execution_count": 2,
   "metadata": {
    "collapsed": true
   },
   "outputs": [],
   "source": [
    "%matplotlib inline\n",
    "import warnings\n",
    "warnings.filterwarnings('ignore')"
   ]
  },
  {
   "cell_type": "code",
   "execution_count": 3,
   "metadata": {
    "collapsed": true
   },
   "outputs": [],
   "source": [
    "invalid = [10139, 10589, 10615, 10150, 10151]"
   ]
  },
  {
   "cell_type": "markdown",
   "metadata": {},
   "source": [
    "# Gage - Radar"
   ]
  },
  {
   "cell_type": "code",
   "execution_count": 4,
   "metadata": {
    "collapsed": true
   },
   "outputs": [],
   "source": [
    "overwrite = 0\n",
    "\n",
    "if (os.path.exists('../data/gage_radar.csv')) and (not overwrite):\n",
    "    gage_radar = pd.read_csv('../data/gage_radar.csv').set_index(['time', 'gage_name'])\n",
    "else:\n",
    "    dates = ['20140811', '20140628', '20140612'] \n",
    "\n",
    "    wu_0 = pd.DataFrame()\n",
    "    wu_1 = pd.DataFrame()\n",
    "\n",
    "    for date in dates:\n",
    "\n",
    "        radar_panel = read_data.radar_to_panel('../data/DTX_DPR_{0}.nc'.format(date))\n",
    "\n",
    "        wu_df, wu_locs = read_data.read_wu_gages()\n",
    "        wu_df.drop('KMIYPSIL10', axis=1, inplace=True)\n",
    "        wu_day = wu_df.loc[date].dropna(axis=1, how='all')\n",
    "        r, c = np.where(~np.isnan(wu_day.values))\n",
    "        t = wu_day.index[r]\n",
    "        xy = wu_locs.loc[wu_day.columns[c], ['lon', 'lat']].values \n",
    "\n",
    "        i_t, i_y, i_x = concatenation.panel_spacetime_index(radar_panel, t, xy)\n",
    "\n",
    "        wu_out = np.repeat(np.nan, wu_day.size).reshape(wu_day.shape)\n",
    "        wu_out[r, c] = radar_panel.values[i_t, i_y, i_x]\n",
    "        wu_out = pd.DataFrame(wu_out, index=wu_day.index, columns=wu_day.columns)\n",
    "        wu_0 = wu_0.append(wu_day)\n",
    "        wu_1 = wu_1.append(wu_out)\n",
    "\n",
    "    gage_radar = pd.concat([wu_0.stack(), wu_1.stack()], axis=1)\n",
    "    gage_radar.columns = ['Gage', 'Radar']\n",
    "    gage_radar.index.names = ['time', 'gage_name']\n",
    "    gage_radar.to_csv('../data/gage_radar.csv')"
   ]
  },
  {
   "cell_type": "markdown",
   "metadata": {},
   "source": [
    "# Radar - Vehicle"
   ]
  },
  {
   "cell_type": "code",
   "execution_count": 5,
   "metadata": {
    "collapsed": true
   },
   "outputs": [],
   "source": [
    "overwrite = 0\n",
    "\n",
    "if (os.path.exists('../data/veh_radar.csv')) and (not overwrite):\n",
    "    gage_radar = pd.read_csv('../data/veh_radar.csv')\n",
    "else:\n",
    "    dates = ['20140811', '20140628', '20140612'] \n",
    "\n",
    "    veh_radar = pd.DataFrame(columns=['Wiper', 'Radar'])\n",
    "\n",
    "    for date in dates:\n",
    "\n",
    "        radar_panel = read_data.radar_to_panel('../data/DTX_DPR_{0}.nc'.format(date))\n",
    "\n",
    "        veh = read_data.read_vehicle_data('../data/{0}.csv'.format(date))\n",
    "\n",
    "        # Correct vehicle data\n",
    "        ymin = radar_panel.major_axis.min()\n",
    "        ymax = radar_panel.major_axis.max()\n",
    "        xmin = radar_panel.minor_axis.min()\n",
    "        xmax = radar_panel.minor_axis.max()\n",
    "        veh = veh[(veh['Latitude'] > ymin) & (veh['Latitude'] < ymax) &\n",
    "                  (veh['Longitude'] > xmin) & (veh['Longitude'] < xmax)]\n",
    "        veh = veh[veh['GPS_Speed'] > 1]\n",
    "        veh = veh[~veh['Device'].isin(invalid)]\n",
    "\n",
    "        t = veh.index\n",
    "        xy = veh[['Longitude', 'Latitude']].values\n",
    "        i_t, i_y, i_x = concatenation.panel_spacetime_index(radar_panel, t, xy)\n",
    "        veh['Radar'] = radar_panel.values[i_t, i_y, i_x]\n",
    "        veh_radar = veh_radar.append(veh[['Wiper', 'Radar']])\n",
    "        veh_radar.to_csv('../data/veh_radar.csv')"
   ]
  },
  {
   "cell_type": "markdown",
   "metadata": {},
   "source": [
    "# Gage - Vehicle"
   ]
  },
  {
   "cell_type": "code",
   "execution_count": 7,
   "metadata": {
    "collapsed": true
   },
   "outputs": [],
   "source": [
    "overwrite = 0\n",
    "max_dist = 2\n",
    "\n",
    "if (os.path.exists('../data/veh_gage_{0}km.csv'.format(max_dist))) and (not overwrite):\n",
    "    veh_gage = pd.read_csv('../data/veh_gage_{0}km.csv'.format(max_dist))\n",
    "else:\n",
    "    dates = ['20140811', '20140628', '20140612']\n",
    "    wu_df, wu_locs = read_data.read_wu_gages()\n",
    "    wu_df.drop('KMIYPSIL10', axis=1, inplace=True)\n",
    "\n",
    "    veh_gage = []\n",
    "\n",
    "    for date in dates:\n",
    "        wu_day = wu_df.loc[date]\n",
    "        gages = wu_df.columns[wu_df.loc[date].any()]\n",
    "        veh = read_data.read_vehicle_data('../data/{0}.csv'.format(date))\n",
    "        \n",
    "        veh = veh[veh['GPS_Speed'] > 1]\n",
    "        veh = veh[~veh['Device'].isin(invalid)]\n",
    "        \n",
    "        for gage in gages:\n",
    "            df = concatenation.join_gage_to_vehicle(wu_df[gage].dropna(),\n",
    "                                      wu_locs.loc[gage, ['lon', 'lat']],\n",
    "                                      veh)\n",
    "            df = df.query('Dist_km < {0}'.format(max_dist))[['Wiper', gage]].values\n",
    "            veh_gage.append(df)\n",
    "    veh_gage = pd.DataFrame(np.vstack(veh_gage), columns=['Wiper', 'Gage'])\n",
    "    veh_gage.to_csv('../data/veh_gage_{0}km.csv'.format(max_dist))"
   ]
  },
  {
   "cell_type": "code",
   "execution_count": 8,
   "metadata": {
    "collapsed": true
   },
   "outputs": [],
   "source": [
    "gage_radar = pd.read_csv('../data/gage_radar.csv')\n",
    "veh_radar = pd.read_csv('../data/veh_radar.csv')\n",
    "veh_gage = pd.read_csv('../data/veh_gage_2km.csv')"
   ]
  },
  {
   "cell_type": "code",
   "execution_count": 9,
   "metadata": {
    "collapsed": true
   },
   "outputs": [],
   "source": [
    "veh_radar['Wiper'] = veh_radar['Wiper'].astype(int)\n",
    "veh_gage['Wiper'] = veh_gage['Wiper'].astype(int)\n",
    "veh_radar_log = veh_radar.copy()\n",
    "veh_gage_log = veh_gage.copy()"
   ]
  },
  {
   "cell_type": "code",
   "execution_count": 10,
   "metadata": {
    "collapsed": true
   },
   "outputs": [],
   "source": [
    "veh_radar['Radar'][veh_radar['Radar'].isnull()] = 0"
   ]
  },
  {
   "cell_type": "code",
   "execution_count": 11,
   "metadata": {
    "collapsed": true
   },
   "outputs": [],
   "source": [
    "intomm = 25.4\n",
    "veh_radar['Radar'] *= intomm\n",
    "veh_gage['Gage'] *= intomm"
   ]
  },
  {
   "cell_type": "code",
   "execution_count": 12,
   "metadata": {},
   "outputs": [],
   "source": [
    "radar_means = [veh_radar['Radar'][veh_radar['Wiper'] == i].mean() for i in range(4)]\n",
    "gage_means = [veh_gage['Gage'][veh_gage['Wiper'] == i].mean() for i in range(4)]\n",
    "radar_meds = [veh_radar['Radar'][veh_radar['Wiper'] == i].median() for i in range(4)]\n",
    "gage_meds = [veh_gage['Gage'][veh_gage['Wiper'] == i].median() for i in range(4)]"
   ]
  },
  {
   "cell_type": "markdown",
   "metadata": {},
   "source": [
    "# Generate plots"
   ]
  },
  {
   "cell_type": "code",
   "execution_count": 13,
   "metadata": {},
   "outputs": [
    {
     "data": {
      "image/png": "[encoded data removed]",
      "text/plain": [
       "<matplotlib.figure.Figure at 0x120b98630>"
      ]
     },
     "metadata": {},
     "output_type": "display_data"
    }
   ],
   "source": [
    "fig, ax = plt.subplots(1, 2, figsize=(12,4))\n",
    "\n",
    "sns.boxplot(x='Wiper', y='Radar', data=veh_radar, ax=ax[0], palette='plasma',\n",
    "            linewidth=1, fliersize=2, width=0.5)\n",
    "sns.boxplot(x='Wiper', y='Gage', data=veh_gage, ax=ax[1], palette='plasma',\n",
    "            linewidth=1, fliersize=2, width=0.5)\n",
    "\n",
    "ax[0].plot(range(4), radar_means, linewidth=0,\n",
    "             color='w', marker='o', markeredgecolor='k', markersize=8, markeredgewidth=1, zorder=5, label='Mean')\n",
    "ax[1].plot(range(4), gage_means, linewidth=0,\n",
    "             color='w', marker='o', markeredgecolor='k', markersize=8, markeredgewidth=1, zorder=5, label='Mean')\n",
    "\n",
    "ax[0].set_ylim(-0.05*intomm, 0.6*intomm)\n",
    "ax[1].set_ylim(-0.05*intomm, 0.6*intomm)\n",
    "\n",
    "leg0 = ax[0].legend(frameon=True, loc=2)\n",
    "leg1 = ax[1].legend(frameon=True, loc=2)\n",
    "leg0.get_frame().set_edgecolor('0.1')\n",
    "leg1.get_frame().set_edgecolor('0.1')\n",
    "\n",
    "ax[0].set_xlabel('')\n",
    "ax[0].set_ylabel('Radar Intensity (mm/hr)')\n",
    "ax[0].set_xlabel('Wiper Intensity')\n",
    "ax[1].set_xlabel('Wiper Intensity')\n",
    "ax[1].set_ylabel('Gage Intensity (mm/hr)')\n",
    "ax[0].set_title('')\n",
    "ax[1].set_title('')\n",
    "ax[0].grid('on')\n",
    "ax[1].grid('on')\n",
    "\n",
    "textstr0 = r'$n = {:,}$'.format(veh_radar.shape[0])\n",
    "textstr1 = r'$n = {:,}$'.format(veh_gage.shape[0])\n",
    "props = dict(boxstyle='round', facecolor=leg0.properties()['frame'].properties()['facecolor'],\n",
    "             alpha=leg0.properties()['frame'].properties()['alpha'])\n",
    "ax[0].text(0.975, 0.975, textstr0, transform=ax[0].transAxes,\n",
    "        verticalalignment='top', horizontalalignment='right', bbox=props)\n",
    "ax[1].text(0.975, 0.975, textstr1, horizontalalignment='right', transform=ax[1].transAxes,\n",
    "        verticalalignment='top', bbox=props)\n",
    "\n",
    "ax[0].set_title('Wiper intensity vs. radar rainfall intensity')\n",
    "ax[1].set_title('Wiper intensity vs. gage rainfall intensity')\n",
    "\n",
    "plt.tight_layout()\n",
    "plt.savefig('../img/fig4.pdf', bbox_inches='tight')"
   ]
  },
  {
   "cell_type": "code",
   "execution_count": null,
   "metadata": {
    "collapsed": true
   },
   "outputs": [],
   "source": []
  }
 ],
 "metadata": {
  "kernelspec": {
   "display_name": "Python 3",
   "language": "python",
   "name": "python3"
  },
  "language_info": {
   "codemirror_mode": {
    "name": "ipython",
    "version": 3
   },
   "file_extension": ".py",
   "mimetype": "text/x-python",
   "name": "python",
   "nbconvert_exporter": "python",
   "pygments_lexer": "ipython3",
   "version": "3.6.0"
  }
 },
 "nbformat": 4,
 "nbformat_minor": 2
}
