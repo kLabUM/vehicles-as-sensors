{
 "cells": [
  {
   "cell_type": "code",
   "execution_count": 9,
   "metadata": {
    "collapsed": true
   },
   "outputs": [],
   "source": [
    "import os\n",
    "import sys\n",
    "import numpy as np\n",
    "import pandas as pd\n",
    "from scipy import io\n",
    "import matplotlib.pyplot as plt\n",
    "import matplotlib.animation as animation\n",
    "import fiona\n",
    "import geopandas as gpd\n",
    "import netCDF4 as nc\n",
    "from itertools import tee\n",
    "import seaborn as sns\n",
    "from matplotlib import cm\n",
    "from matplotlib.colors import LogNorm, ListedColormap\n",
    "import matplotlib.patches as mpatches\n",
    "from matplotlib.collections import PatchCollection\n",
    "\n",
    "import warnings\n",
    "warnings.filterwarnings(\"ignore\")\n",
    "\n",
    "import read_data, concatenation, radar"
   ]
  },
  {
   "cell_type": "code",
   "execution_count": 15,
   "metadata": {
    "collapsed": true
   },
   "outputs": [],
   "source": [
    "class AnimatedPlot(object):\n",
    "    \"\"\"An animated scatter plot using matplotlib.animations.FuncAnimation.\"\"\"\n",
    "    def __init__(self, veh_table, radar0, radar1, xlabels, ylabels, wiperlabels, timestamps, ts_offset):\n",
    "        self.xlabels = xlabels\n",
    "        self.ylabels = ylabels\n",
    "        self.wiperlabels = wiperlabels\n",
    "        self.xbounds = (extent[0], extent[1])\n",
    "        self.ybounds = (extent[2], extent[3])\n",
    "        self.stream = self.data_stream(veh_table, radar0, radar1)\n",
    "        self.timestamps = timestamps\n",
    "        self.ts_offset = ts_offset\n",
    "\n",
    "        # Setup the figure and axes...\n",
    "        self.fig, self.ax = plt.subplots(2, figsize=(10,10))\n",
    "\n",
    "    def setup_plot(self):\n",
    "        \"\"\"Initial drawing of the scatter plot.\"\"\"\n",
    "        sc, im0, im1, t = next(self.stream)\n",
    "        sc_x = sc[:, 0]\n",
    "        sc_y = sc[:, 1]\n",
    "        sc_c = sc[:, 2]\n",
    "        \n",
    "        cmap = cm.gist_ncar\n",
    "        my_cmap = cmap(np.arange(cmap.N))\n",
    "        my_cmap[:,-1] = np.log10(np.linspace(1, 10, cmap.N))\n",
    "        my_cmap = ListedColormap(my_cmap)\n",
    "        vmin = 0\n",
    "        vmax = 3\n",
    "\n",
    "        # Draw backdrop\n",
    "        # Subplot 0\n",
    "        roads.plot(ax=self.ax[0], linewidth=0.5, color='k', alpha=0.5, zorder=1)\n",
    "        self.scat0 = self.ax[0].scatter(sc_x, sc_y, c=sc_c, cmap='Greys', vmin=0, vmax=3, s=0, animated=True, zorder=4)\n",
    "        self.ax[0].axis([self.xbounds[0], self.xbounds[1],\n",
    "                      self.ybounds[0], self.ybounds[1]])\n",
    "        self.im0 = self.ax[0].imshow(im0, animated=True, extent=extent, cmap=my_cmap, origin='lower',\n",
    "           vmin=vmin, vmax=vmax, interpolation='nearest', zorder=3)\n",
    "        self.text0 = self.ax[0].text(self.xbounds[0], self.ybounds[0], '',\n",
    "                                 horizontalalignment='left', verticalalignment='bottom')\n",
    "        self.ax[0].grid('off')\n",
    "        self.ax[0].set_xticks([])\n",
    "        self.ax[0].set_yticks([])\n",
    "        self.ax[0].set_facecolor('0.86')\n",
    "        self.ax[0].set_alpha(0.6)\n",
    "        \n",
    "        # Subplot 1\n",
    "        roads.plot(ax=self.ax[1], linewidth=0.5, color='k', alpha=0.5, zorder=1)\n",
    "        self.scat1 = self.ax[1].scatter(sc_x, sc_y, c=sc_c, cmap='Greys', vmin=0, vmax=3, s=9, animated=True, zorder=4)\n",
    "        self.ax[0].axis([self.xbounds[0], self.xbounds[1],\n",
    "                      self.ybounds[0], self.ybounds[1]])\n",
    "        self.im1 = self.ax[1].imshow(im1, animated=True, extent=extent, cmap=my_cmap, origin='lower',\n",
    "           vmin=vmin, vmax=vmax, interpolation='nearest', zorder=3)\n",
    "        self.text1 = self.ax[1].text(self.xbounds[0], self.ybounds[0], '',\n",
    "                                 horizontalalignment='left', verticalalignment='bottom')\n",
    "        self.ax[1].grid('off')\n",
    "        self.ax[1].set_xticks([])\n",
    "        self.ax[1].set_yticks([])\n",
    "        self.ax[1].set_facecolor('0.86')\n",
    "        self.ax[1].set_alpha(0.6)\n",
    "\n",
    "        red_patch = mpatches.Patch(facecolor='k', label='High', linewidth=1.2, edgecolor='k')\n",
    "        yellow_patch = mpatches.Patch(facecolor='0.5', label='Medium', linewidth=1.2, edgecolor='k')\n",
    "        cyan_patch = mpatches.Patch(facecolor='0.75', label='Low', linewidth=1.2, edgecolor='k')\n",
    "        blue_patch = mpatches.Patch(facecolor='1.0', label='Off', linewidth=1.2, edgecolor='k')\n",
    "        leg0 = self.ax[1].legend(handles=[red_patch, yellow_patch, cyan_patch, blue_patch],\n",
    "                            frameon=True, fontsize=12, loc=2, title='Wiper intensity')\n",
    "        leg0.get_frame().set_edgecolor('0.4')\n",
    "        leg0.get_title().set_fontsize(12)\n",
    "        leg0.get_title().set_fontweight('bold')\n",
    "        leg0.get_frame().set_alpha(0.5)\n",
    "\n",
    "        self.fig.colorbar(self.im0, ax=self.ax.ravel().tolist(), orientation='horizontal')\n",
    "\n",
    "        # For FuncAnimation's sake, we need to return the artist we'll be using\n",
    "        # Note that it expects a sequence of artists, thus the trailing comma        \n",
    "        return self.scat0, self.scat1, self.im0, self.im1, self.text0, self.text1\n",
    "\n",
    "    def data_stream(self, veh_table, radar0, radar1):\n",
    "        \"\"\"Generate data stream\"\"\"\n",
    "\n",
    "        for ix, timestamp in enumerate(self.timestamps):\n",
    "            # sc = veh_table.loc[start:end, [self.xlabels, self.ylabels, self.wiperlabels]].values\n",
    "            sc = (veh_table[veh_table['Step'] == ix + self.ts_offset + 1])[[self.xlabels, self.ylabels, self.wiperlabels]].values\n",
    "            im0 = radar0[ix + self.ts_offset, :, :]\n",
    "            # Note that product is flipped\n",
    "            im1 = radar1[:, :, ix + self.ts_offset]\n",
    "            \n",
    "            # s += 0.05 * (np.random.random(self.numpoints) - 0.5)\n",
    "            # c += 0.02 * (np.random.random(self.numpoints) - 0.5)\n",
    "            yield sc, im0, im1, timestamp\n",
    "\n",
    "    def update(self, i):\n",
    "        \"\"\"Update the scatter plot.\"\"\"\n",
    "        sc, im0, im1, t = next(self.stream)\n",
    "\n",
    "        sc_xy = sc[:, :2]\n",
    "        sc_c = sc[:, 2]\n",
    "        \n",
    "        # Set x and y data...\n",
    "        self.scat0.set_offsets(sc_xy)\n",
    "        self.scat1.set_offsets(sc_xy)\n",
    "        self.im0.set_array(im0)\n",
    "        self.im1.set_array(im1)\n",
    "        # Set sizes...\n",
    "        # self.scat._sizes = 300 * abs(data[2])**1.5 + 100\n",
    "        # Set colors..\n",
    "        self.scat0.set_array(sc_c)\n",
    "        self.scat1.set_array(sc_c)\n",
    "        self.text0.set_text(str(t))\n",
    "        self.text1.set_text(str(t))\n",
    "\n",
    "        # We need to return the updated artist for FuncAnimation to draw..\n",
    "        # Note that it expects a sequence of artists, thus the trailing comma.\n",
    "        return self.scat0, self.scat1, self.im0, self.im1, self.text0, self.text1\n",
    "\n",
    "    def show(self):\n",
    "        plt.show()"
   ]
  },
  {
   "cell_type": "code",
   "execution_count": 3,
   "metadata": {
    "collapsed": true
   },
   "outputs": [],
   "source": [
    "# Get roadway shapefile\n",
    "roads = gpd.read_file('../data/allroads_miv14a.shp')\n",
    "wash_zips = [48105,48104,48106,48109,48108,49236,48190,48189,48115,48191,\n",
    "49240,48198,48118,48197,48130,48137,48158,48160,48175,48176,48103,\n",
    "]\n",
    "\n",
    "wayne_zips = [\n",
    "48277,48101,48111,48112,48120,48122,48124,\n",
    "48126,48125,48128,48127,48134,48135,48138,48141,48150,48146,48152,48154,48164,\n",
    "48167,48168,48173,48170,48174,48180,48184,48183,48186,48185,48188,48187,48192,\n",
    "48195,48193,48202,48201,48204,48203,48206,48205,48208,48207,48210,48209,48212,\n",
    "48211,48214,48213,48216,48215,48218,48217,48219,48222,48221,48224,48223,48226,\n",
    "48225,48228,48227,48230,48229,48234,48236,48235,48238,48240,48239,48266,48265,\n",
    "]\n",
    "zips = wash_zips + wayne_zips\n",
    "roads = roads[(roads['ZIPL'].isin(zips)) | (roads['ZIPR'].isin(zips))]\n",
    "roads = roads.to_crs(epsg=4326)"
   ]
  },
  {
   "cell_type": "code",
   "execution_count": 4,
   "metadata": {},
   "outputs": [],
   "source": [
    "# Read raw radar data\n",
    "date = '20140811'\n",
    "p_radar = read_data.radar_to_panel('../data/data_{0}.nc'.format(date), 'radar',\n",
    "                                   dim_map={'lat' : 'latitude', 'lon' : 'longitude', 'time' : 'time'},\n",
    "                                   time_unit='ns')"
   ]
  },
  {
   "cell_type": "code",
   "execution_count": 5,
   "metadata": {
    "collapsed": true
   },
   "outputs": [],
   "source": [
    "# Get vehicles\n",
    "veh = pd.read_csv('../data/20140811_vehicle_filtered.csv', header=None)\n",
    "veh.columns = ['Device', 'Trip', 'Latitude', 'Longitude', 'Wiper', 'Radar', 'Step', 'y', 'x']\n",
    "veh['Time'] = veh['Step'].map(pd.Series(p_radar.axes[0]))\n",
    "veh.set_index('Time', inplace=True)"
   ]
  },
  {
   "cell_type": "code",
   "execution_count": 6,
   "metadata": {
    "collapsed": true
   },
   "outputs": [],
   "source": [
    "# Get updated rainfall product\n",
    "f1 = nc.Dataset('../data/product_20140811_agg.nc')\n",
    "extent = (f1.variables['lon'][:].min(), f1.variables['lon'][:].max(),\n",
    "          f1.variables['lat'][:].min(), f1.variables['lat'][:].max())"
   ]
  },
  {
   "cell_type": "code",
   "execution_count": 16,
   "metadata": {
    "collapsed": true
   },
   "outputs": [],
   "source": [
    "# Generate animation\n",
    "a = AnimatedPlot(veh, p_radar.values, 6.285999774932861*f1.variables['combined'][:,:,:], 'Longitude', 'Latitude',\n",
    "                    'Wiper', p_radar.axes[0].tolist()[150:], ts_offset=150)\n",
    "ani = animation.FuncAnimation(a.fig, a.update, interval=1, frames=210 - 150, init_func=a.setup_plot)"
   ]
  },
  {
   "cell_type": "code",
   "execution_count": 17,
   "metadata": {
    "collapsed": true
   },
   "outputs": [],
   "source": [
    "# Write animation\n",
    "Writer = animation.writers['ffmpeg']\n",
    "writer = Writer(fps=10, metadata=dict(artist='MDB'), bitrate=1800)\n",
    "ani.save('../img/movie_s1.mp4', writer=writer)"
   ]
  },
  {
   "cell_type": "code",
   "execution_count": null,
   "metadata": {},
   "outputs": [],
   "source": []
  }
 ],
 "metadata": {
  "kernelspec": {
   "display_name": "Python 3",
   "language": "python",
   "name": "python3"
  },
  "language_info": {
   "codemirror_mode": {
    "name": "ipython",
    "version": 3
   },
   "file_extension": ".py",
   "mimetype": "text/x-python",
   "name": "python",
   "nbconvert_exporter": "python",
   "pygments_lexer": "ipython3",
   "version": "3.6.0"
  }
 },
 "nbformat": 4,
 "nbformat_minor": 2
}
