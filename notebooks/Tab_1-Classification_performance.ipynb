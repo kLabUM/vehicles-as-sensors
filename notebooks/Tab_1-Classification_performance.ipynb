{
 "cells": [
  {
   "cell_type": "code",
   "execution_count": 1,
   "metadata": {},
   "outputs": [],
   "source": [
    "import os\n",
    "import datetime\n",
    "import numpy as np\n",
    "import pandas as pd\n",
    "from scipy import spatial\n",
    "import netCDF4 as nc\n",
    "from matplotlib import pyplot as plt\n",
    "from sklearn.metrics import roc_curve, auc\n",
    "import read_data, concatenation, radar\n",
    "\n",
    "import warnings\n",
    "warnings.filterwarnings(\"ignore\")\n",
    "\n",
    "%matplotlib inline"
   ]
  },
  {
   "cell_type": "code",
   "execution_count": 55,
   "metadata": {},
   "outputs": [],
   "source": [
    "radar_panel = \\\n",
    "read_data.radar_to_panel( '../data/data_20140811.nc',\n",
    "               var_name='radar', time_unit='ns', dim_map = {'lat' : 'latitude', 'lon' :\n",
    "                                             'longitude', 'time' : 'time'})\n",
    "\n",
    "# Read vehicle data\n",
    "veh = pd.read_csv('../data/camera_observations_1m.csv')\n",
    "veh['Time'] = pd.to_datetime(veh['Time'])\n",
    "veh.set_index('Time', inplace=True, drop=True)\n",
    "\n",
    "# Correct vehicle data\n",
    "ymin = radar_panel.major_axis.min()\n",
    "ymax = radar_panel.major_axis.max()\n",
    "xmin = radar_panel.minor_axis.min()\n",
    "xmax = radar_panel.minor_axis.max()\n",
    "veh = veh[(veh['Latitude'] > ymin) & (veh['Latitude'] < ymax) &\n",
    "        (veh['Longitude'] > xmin) & (veh['Longitude'] < xmax)]\n",
    "veh = veh[veh['GPS_Speed'] > 1]\n",
    "invalid = [10150, 10151, 10589, 10139, 10615]\n",
    "veh = veh[~veh['Device'].isin(invalid)]\n",
    "veh['radar'] = veh['radar'].fillna(0)\n",
    "veh = veh.dropna()\n",
    "veh811 = veh.loc['2014-08-11']\n",
    "veh612 = veh.loc['2014-06-12']\n",
    "veh628 = veh.loc['2014-06-28']\n",
    "\n",
    "# Read aggregated hi-resolution\n",
    "comparison = pd.read_csv('../data/camera_observations_comparison.csv')\n",
    "comparison['Time'] = pd.to_datetime(comparison['Time'])\n",
    "comparison.set_index('Time', inplace=True)\n",
    "comparison['radar'] = comparison['radar'].fillna(0)\n",
    "comparison_sub = comparison.iloc[:, [0,1,2,3,4,5,-1,7,8]]\n",
    "comparison_sub.columns = veh.columns\n",
    "combined = pd.concat([comparison_sub, veh612, veh628])"
   ]
  },
  {
   "cell_type": "markdown",
   "metadata": {},
   "source": [
    "# TPR and FPR when only the 1-minute resolution dataset is used"
   ]
  },
  {
   "cell_type": "code",
   "execution_count": 56,
   "metadata": {},
   "outputs": [],
   "source": [
    "# When the wiper data is resampled to regular 1-minute increments, it sometimes \"spills over\"\n",
    "# into neighboring intervals due to aggregation. We can use a threshold so that intervals containing very\n",
    "# small fraction of wiper activity are not counted as raining\n",
    "alpha = 0.05"
   ]
  },
  {
   "cell_type": "code",
   "execution_count": 57,
   "metadata": {},
   "outputs": [
    {
     "data": {
      "text/html": [
       "<div>\n",
       "<style scoped>\n",
       "    .dataframe tbody tr th:only-of-type {\n",
       "        vertical-align: middle;\n",
       "    }\n",
       "\n",
       "    .dataframe tbody tr th {\n",
       "        vertical-align: top;\n",
       "    }\n",
       "\n",
       "    .dataframe thead th {\n",
       "        text-align: right;\n",
       "    }\n",
       "</style>\n",
       "<table border=\"1\" class=\"dataframe\">\n",
       "  <thead>\n",
       "    <tr style=\"text-align: right;\">\n",
       "      <th></th>\n",
       "      <th>Gage</th>\n",
       "      <th>Radar</th>\n",
       "      <th>Wiper</th>\n",
       "    </tr>\n",
       "  </thead>\n",
       "  <tbody>\n",
       "    <tr>\n",
       "      <th>TPR</th>\n",
       "      <td>0.817597</td>\n",
       "      <td>0.922892</td>\n",
       "      <td>0.959658</td>\n",
       "    </tr>\n",
       "    <tr>\n",
       "      <th>TNR</th>\n",
       "      <td>0.841614</td>\n",
       "      <td>0.965844</td>\n",
       "      <td>0.973177</td>\n",
       "    </tr>\n",
       "  </tbody>\n",
       "</table>\n",
       "</div>"
      ],
      "text/plain": [
       "         Gage     Radar     Wiper\n",
       "TPR  0.817597  0.922892  0.959658\n",
       "TNR  0.841614  0.965844  0.973177"
      ]
     },
     "execution_count": 57,
     "metadata": {},
     "output_type": "execute_result"
    }
   ],
   "source": [
    "perf = {'Wiper' : {}, 'Radar' : {}, 'Gage' : {}}\n",
    "\n",
    "perf['Wiper']['TPR'] = ((veh['Wiper'] > alpha) & (veh['camera_rain'] != 0)).sum() / (veh['Wiper'] > alpha).sum()\n",
    "perf['Wiper']['TNR'] = ((veh['Wiper'] <= alpha) & (veh['camera_rain'] == 0)).sum() / (veh['Wiper'] <= alpha).sum()\n",
    "perf['Radar']['TPR'] = ((veh['radar'] > 0.0) & (veh['camera_rain'] != 0)).sum() / (veh['radar'] > 0.0).sum()\n",
    "perf['Radar']['TNR'] = ((veh['radar'] == 0.0) & (veh['camera_rain'] == 0)).sum() / (veh['radar'] == 0.0).sum()\n",
    "perf['Gage']['TPR'] = ((veh['gage'] > 0.0) & (veh['camera_rain'] != 0)).sum() / (veh['gage'] > 0.0).sum()\n",
    "perf['Gage']['TNR'] = ((veh['gage'] == 0.0) & (veh['camera_rain'] == 0)).sum() / (veh['gage'] == 0.0).sum()\n",
    "pd.DataFrame.from_dict(perf).sort_index(ascending=False)"
   ]
  },
  {
   "cell_type": "code",
   "execution_count": 58,
   "metadata": {},
   "outputs": [],
   "source": [
    "# Not accounting for \"spill over\" (wipers still perform better than radar)\n",
    "alpha = 0.0"
   ]
  },
  {
   "cell_type": "code",
   "execution_count": 59,
   "metadata": {},
   "outputs": [
    {
     "data": {
      "text/html": [
       "<div>\n",
       "<style scoped>\n",
       "    .dataframe tbody tr th:only-of-type {\n",
       "        vertical-align: middle;\n",
       "    }\n",
       "\n",
       "    .dataframe tbody tr th {\n",
       "        vertical-align: top;\n",
       "    }\n",
       "\n",
       "    .dataframe thead th {\n",
       "        text-align: right;\n",
       "    }\n",
       "</style>\n",
       "<table border=\"1\" class=\"dataframe\">\n",
       "  <thead>\n",
       "    <tr style=\"text-align: right;\">\n",
       "      <th></th>\n",
       "      <th>Gage</th>\n",
       "      <th>Radar</th>\n",
       "      <th>Wiper</th>\n",
       "    </tr>\n",
       "  </thead>\n",
       "  <tbody>\n",
       "    <tr>\n",
       "      <th>TPR</th>\n",
       "      <td>0.817597</td>\n",
       "      <td>0.922892</td>\n",
       "      <td>0.945433</td>\n",
       "    </tr>\n",
       "    <tr>\n",
       "      <th>TNR</th>\n",
       "      <td>0.841614</td>\n",
       "      <td>0.965844</td>\n",
       "      <td>0.977498</td>\n",
       "    </tr>\n",
       "  </tbody>\n",
       "</table>\n",
       "</div>"
      ],
      "text/plain": [
       "         Gage     Radar     Wiper\n",
       "TPR  0.817597  0.922892  0.945433\n",
       "TNR  0.841614  0.965844  0.977498"
      ]
     },
     "execution_count": 59,
     "metadata": {},
     "output_type": "execute_result"
    }
   ],
   "source": [
    "perf = {'Wiper' : {}, 'Radar' : {}, 'Gage' : {}}\n",
    "\n",
    "perf['Wiper']['TPR'] = ((veh['Wiper'] > alpha) & (veh['camera_rain'] != 0)).sum() / (veh['Wiper'] > alpha).sum()\n",
    "perf['Wiper']['TNR'] = ((veh['Wiper'] <= alpha) & (veh['camera_rain'] == 0)).sum() / (veh['Wiper'] <= alpha).sum()\n",
    "perf['Radar']['TPR'] = ((veh['radar'] > 0.0) & (veh['camera_rain'] != 0)).sum() / (veh['radar'] > 0.0).sum()\n",
    "perf['Radar']['TNR'] = ((veh['radar'] == 0.0) & (veh['camera_rain'] == 0)).sum() / (veh['radar'] == 0.0).sum()\n",
    "perf['Gage']['TPR'] = ((veh['gage'] > 0.0) & (veh['camera_rain'] != 0)).sum() / (veh['gage'] > 0.0).sum()\n",
    "perf['Gage']['TNR'] = ((veh['gage'] == 0.0) & (veh['camera_rain'] == 0)).sum() / (veh['gage'] == 0.0).sum()\n",
    "pd.DataFrame.from_dict(perf).sort_index(ascending=False)"
   ]
  },
  {
   "cell_type": "markdown",
   "metadata": {},
   "source": [
    "# TPR and FPR when 2.4-second resolution ground-truth data are aggregated to 1-minute increments and used for 2014-08-11"
   ]
  },
  {
   "cell_type": "markdown",
   "metadata": {},
   "source": [
    "#### Note that the 2.4-second resolution data is aggregated to 1-minute increments"
   ]
  },
  {
   "cell_type": "code",
   "execution_count": 60,
   "metadata": {},
   "outputs": [],
   "source": [
    "alpha = 0.05"
   ]
  },
  {
   "cell_type": "code",
   "execution_count": 61,
   "metadata": {},
   "outputs": [
    {
     "data": {
      "text/html": [
       "<div>\n",
       "<style scoped>\n",
       "    .dataframe tbody tr th:only-of-type {\n",
       "        vertical-align: middle;\n",
       "    }\n",
       "\n",
       "    .dataframe tbody tr th {\n",
       "        vertical-align: top;\n",
       "    }\n",
       "\n",
       "    .dataframe thead th {\n",
       "        text-align: right;\n",
       "    }\n",
       "</style>\n",
       "<table border=\"1\" class=\"dataframe\">\n",
       "  <thead>\n",
       "    <tr style=\"text-align: right;\">\n",
       "      <th></th>\n",
       "      <th>Gage</th>\n",
       "      <th>Radar</th>\n",
       "      <th>Wiper</th>\n",
       "    </tr>\n",
       "  </thead>\n",
       "  <tbody>\n",
       "    <tr>\n",
       "      <th>TPR</th>\n",
       "      <td>0.857143</td>\n",
       "      <td>0.934272</td>\n",
       "      <td>0.976716</td>\n",
       "    </tr>\n",
       "    <tr>\n",
       "      <th>TNR</th>\n",
       "      <td>0.823764</td>\n",
       "      <td>0.945772</td>\n",
       "      <td>0.946876</td>\n",
       "    </tr>\n",
       "  </tbody>\n",
       "</table>\n",
       "</div>"
      ],
      "text/plain": [
       "         Gage     Radar     Wiper\n",
       "TPR  0.857143  0.934272  0.976716\n",
       "TNR  0.823764  0.945772  0.946876"
      ]
     },
     "execution_count": 61,
     "metadata": {},
     "output_type": "execute_result"
    }
   ],
   "source": [
    "perf = {'Wiper' : {}, 'Radar' : {}, 'Gage' : {}}\n",
    "\n",
    "perf['Wiper']['TPR'] = ((combined['Wiper'] > alpha) & (combined['camera_rain'] != 0)).sum() / (combined['Wiper'] > alpha).sum()\n",
    "perf['Wiper']['TNR'] = ((combined['Wiper'] <= alpha) & (combined['camera_rain'] == 0)).sum() / (combined['Wiper'] <= alpha).sum()\n",
    "perf['Radar']['TPR'] = ((combined['radar'] > 0.0) & (combined['camera_rain'] != 0)).sum() / (combined['radar'] > 0.0).sum()\n",
    "perf['Radar']['TNR'] = ((combined['radar'] == 0.0) & (combined['camera_rain'] == 0)).sum() / (combined['radar'] == 0.0).sum()\n",
    "perf['Gage']['TPR'] = ((combined['gage'] > 0.0) & (combined['camera_rain'] != 0)).sum() / (combined['gage'] > 0.0).sum()\n",
    "perf['Gage']['TNR'] = ((combined['gage'] == 0.0) & (combined['camera_rain'] == 0)).sum() / (combined['gage'] == 0.0).sum()\n",
    "pd.DataFrame.from_dict(perf).sort_index(ascending=False)"
   ]
  },
  {
   "cell_type": "code",
   "execution_count": 62,
   "metadata": {},
   "outputs": [],
   "source": [
    "alpha = 0.0"
   ]
  },
  {
   "cell_type": "code",
   "execution_count": 63,
   "metadata": {},
   "outputs": [
    {
     "data": {
      "text/html": [
       "<div>\n",
       "<style scoped>\n",
       "    .dataframe tbody tr th:only-of-type {\n",
       "        vertical-align: middle;\n",
       "    }\n",
       "\n",
       "    .dataframe tbody tr th {\n",
       "        vertical-align: top;\n",
       "    }\n",
       "\n",
       "    .dataframe thead th {\n",
       "        text-align: right;\n",
       "    }\n",
       "</style>\n",
       "<table border=\"1\" class=\"dataframe\">\n",
       "  <thead>\n",
       "    <tr style=\"text-align: right;\">\n",
       "      <th></th>\n",
       "      <th>Gage</th>\n",
       "      <th>Radar</th>\n",
       "      <th>Wiper</th>\n",
       "    </tr>\n",
       "  </thead>\n",
       "  <tbody>\n",
       "    <tr>\n",
       "      <th>TPR</th>\n",
       "      <td>0.857143</td>\n",
       "      <td>0.934272</td>\n",
       "      <td>0.966706</td>\n",
       "    </tr>\n",
       "    <tr>\n",
       "      <th>TNR</th>\n",
       "      <td>0.823764</td>\n",
       "      <td>0.945772</td>\n",
       "      <td>0.952417</td>\n",
       "    </tr>\n",
       "  </tbody>\n",
       "</table>\n",
       "</div>"
      ],
      "text/plain": [
       "         Gage     Radar     Wiper\n",
       "TPR  0.857143  0.934272  0.966706\n",
       "TNR  0.823764  0.945772  0.952417"
      ]
     },
     "execution_count": 63,
     "metadata": {},
     "output_type": "execute_result"
    }
   ],
   "source": [
    "perf = {'Wiper' : {}, 'Radar' : {}, 'Gage' : {}}\n",
    "\n",
    "perf['Wiper']['TPR'] = ((combined['Wiper'] > alpha) & (combined['camera_rain'] != 0)).sum() / (combined['Wiper'] > alpha).sum()\n",
    "perf['Wiper']['TNR'] = ((combined['Wiper'] <= alpha) & (combined['camera_rain'] == 0)).sum() / (combined['Wiper'] <= alpha).sum()\n",
    "perf['Radar']['TPR'] = ((combined['radar'] > 0.0) & (combined['camera_rain'] != 0)).sum() / (combined['radar'] > 0.0).sum()\n",
    "perf['Radar']['TNR'] = ((combined['radar'] == 0.0) & (combined['camera_rain'] == 0)).sum() / (combined['radar'] == 0.0).sum()\n",
    "perf['Gage']['TPR'] = ((combined['gage'] > 0.0) & (combined['camera_rain'] != 0)).sum() / (combined['gage'] > 0.0).sum()\n",
    "perf['Gage']['TNR'] = ((combined['gage'] == 0.0) & (combined['camera_rain'] == 0)).sum() / (combined['gage'] == 0.0).sum()\n",
    "pd.DataFrame.from_dict(perf).sort_index(ascending=False)"
   ]
  },
  {
   "cell_type": "markdown",
   "metadata": {},
   "source": [
    "# Cross comparison of camera observations"
   ]
  },
  {
   "cell_type": "code",
   "execution_count": 68,
   "metadata": {},
   "outputs": [
    {
     "data": {
      "text/plain": [
       "0.9950310559006211"
      ]
     },
     "execution_count": 68,
     "metadata": {},
     "output_type": "execute_result"
    }
   ],
   "source": [
    "# True positive rate of low-resolution camera observations compared to aggregated hi-resolution ground truth\n",
    "((hi_res['camera_lowres'] > 0.0) & (hi_res['camera_hires'] > 0.0)).sum() / (hi_res['camera_lowres'] > 0.0).sum()"
   ]
  },
  {
   "cell_type": "code",
   "execution_count": 69,
   "metadata": {},
   "outputs": [
    {
     "data": {
      "text/plain": [
       "0.8931552587646077"
      ]
     },
     "execution_count": 69,
     "metadata": {},
     "output_type": "execute_result"
    }
   ],
   "source": [
    "# True negative rate of low-resolution camera observations compared to aggregated hi-resolution ground truth\n",
    "((hi_res['camera_lowres'] <= 0.0) & (hi_res['camera_hires'] <= 0.0)).sum() / (hi_res['camera_lowres'] <= 0.0).sum()"
   ]
  },
  {
   "cell_type": "code",
   "execution_count": 70,
   "metadata": {},
   "outputs": [
    {
     "data": {
      "text/plain": [
       "0.9217491369390104"
      ]
     },
     "execution_count": 70,
     "metadata": {},
     "output_type": "execute_result"
    }
   ],
   "source": [
    "# Fraction of time where both labelers detect rainfall vs. time where either labeler detects rainfall\n",
    "((hi_res['camera_lowres'] > 0.0) & (hi_res['camera_hires'] > 0.0)).sum() / ((hi_res['camera_lowres'] > 0.0) | (hi_res['camera_hires'] > 0.0)).sum()"
   ]
  },
  {
   "cell_type": "code",
   "execution_count": 71,
   "metadata": {},
   "outputs": [
    {
     "data": {
      "text/plain": [
       "0.8872305140961857"
      ]
     },
     "execution_count": 71,
     "metadata": {},
     "output_type": "execute_result"
    }
   ],
   "source": [
    "# Fraction of time where neither labeler detects rainfall vs. time where either labeler detects rainfall\n",
    "((hi_res['camera_lowres'] <= 0.0) & (hi_res['camera_hires'] <= 0.0)).sum() / ((hi_res['camera_lowres'] <= 0.0) | (hi_res['camera_hires'] <= 0.0)).sum()"
   ]
  }
 ],
 "metadata": {
  "kernelspec": {
   "display_name": "Python 3",
   "language": "python",
   "name": "python3"
  },
  "language_info": {
   "codemirror_mode": {
    "name": "ipython",
    "version": 3
   },
   "file_extension": ".py",
   "mimetype": "text/x-python",
   "name": "python",
   "nbconvert_exporter": "python",
   "pygments_lexer": "ipython3",
   "version": "3.6.0"
  }
 },
 "nbformat": 4,
 "nbformat_minor": 2
}
