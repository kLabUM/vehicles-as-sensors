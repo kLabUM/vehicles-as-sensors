{
 "cells": [
  {
   "cell_type": "code",
   "execution_count": 1,
   "metadata": {},
   "outputs": [],
   "source": [
    "import os\n",
    "import datetime\n",
    "import numpy as np\n",
    "import pandas as pd\n",
    "from scipy import spatial\n",
    "import netCDF4 as nc\n",
    "from matplotlib import pyplot as plt\n",
    "from sklearn.metrics import roc_curve, auc\n",
    "import seaborn as sns\n",
    "\n",
    "import read_data, concatenation, radar\n",
    "\n",
    "import warnings\n",
    "warnings.filterwarnings(\"ignore\")\n",
    "\n",
    "%matplotlib inline"
   ]
  },
  {
   "cell_type": "code",
   "execution_count": 2,
   "metadata": {},
   "outputs": [],
   "source": [
    "sns.set_palette('husl')"
   ]
  },
  {
   "cell_type": "markdown",
   "metadata": {},
   "source": [
    "### Read data"
   ]
  },
  {
   "cell_type": "code",
   "execution_count": 3,
   "metadata": {},
   "outputs": [],
   "source": [
    "date = '20140811'\n",
    "radar_panel = \\\n",
    "read_data.radar_to_panel( '../data/data_20140811.nc',\n",
    "               var_name='radar', time_unit='ns', dim_map = {'lat' : 'latitude', 'lon' :\n",
    "                                             'longitude', 'time' : 'time'})\n",
    "veh = read_data.read_vehicle_data('../data/20140811.csv')\n",
    "labels = pd.read_csv('../data/hi_res_labeling_2014-08-11_raw.csv')\n",
    "wu_df, wu_locs = read_data.read_wu_gages('../data/rain_gages')\n",
    "\n",
    "# Correct gage data\n",
    "wu_df.drop('KMIYPSIL10', axis=1, inplace=True)\n",
    "wu_day = wu_df.loc[date]\n",
    "gages = wu_df.columns[wu_df.loc[date].any()]"
   ]
  },
  {
   "cell_type": "markdown",
   "metadata": {},
   "source": [
    "### Join vehicles to nearest gages"
   ]
  },
  {
   "cell_type": "code",
   "execution_count": 4,
   "metadata": {},
   "outputs": [],
   "source": [
    "vehgages = {}\n",
    "\n",
    "for gage in gages:\n",
    "    df = concatenation.join_gage_to_vehicle(wu_df[gage].dropna(),\n",
    "                                      wu_locs.loc[gage, ['lon', 'lat']],\n",
    "                                      veh)\n",
    "    vehgages[gage] = df\n",
    "\n",
    "gage_dists = pd.concat([vehgages[gage]['Dist_km'].rename(gage) for gage in vehgages], axis=1)\n",
    "gage_readings = pd.concat([vehgages[gage][gage] for gage in vehgages], axis=1)\n",
    "mindist = gage_dists.min(axis=1)\n",
    "idxmindist = gage_dists.idxmin(axis=1)\n",
    "idxmindist_int = idxmindist.map(pd.Series(np.arange(gage_readings.shape[1]), index=gage_readings.columns))\n",
    "closest_readings = gage_readings.values[np.arange(len(gage_readings)), idxmindist_int]\n",
    "veh['gage'] = closest_readings"
   ]
  },
  {
   "cell_type": "markdown",
   "metadata": {},
   "source": [
    "### Convert relative to absolute time for labels"
   ]
  },
  {
   "cell_type": "code",
   "execution_count": 5,
   "metadata": {},
   "outputs": [],
   "source": [
    "veh['id'] = veh['Device'].astype(str) + '-' + veh['Trip'].astype(str)\n",
    "veh = veh.reset_index()\n",
    "trip_starts = veh.groupby('id').min()['Time']\n",
    "labels['dt'] = labels['time (in centiseconds)'] / 100\n",
    "labels['id'] = labels['device id'].astype(str) + '-' + labels['trip id'].astype(str)\n",
    "labels['trip start'] = labels['id'].map(trip_starts)\n",
    "labels['time'] = labels['trip start'] + pd.to_timedelta(labels['dt'], unit='s')"
   ]
  },
  {
   "cell_type": "markdown",
   "metadata": {},
   "source": [
    "### Combine original vehicle dataset with labels"
   ]
  },
  {
   "cell_type": "code",
   "execution_count": 6,
   "metadata": {},
   "outputs": [],
   "source": [
    "combined_data = pd.DataFrame()\n",
    "\n",
    "for vtid in veh['id'].unique():\n",
    "    veh_subset = veh[veh['id'] == vtid]\n",
    "    labels_subset = labels[labels['id'] == vtid]\n",
    "    labels_ix = labels_subset.index.values\n",
    "    axis_time = veh_subset['Time'].values\n",
    "    input_time = labels_subset['time'].values\n",
    "    dist, ix = concatenation.time_join(axis_time, input_time)\n",
    "    labels_subset['time_dist'] = dist\n",
    "    labels_subset['ref_time'] = axis_time[ix]\n",
    "    veh_data = veh_subset[['Latitude', 'Longitude', 'Wiper', 'GPS_Speed', 'gage']].iloc[ix].set_index(labels_subset.index)\n",
    "    combined_subset = pd.concat([labels_subset, veh_data], axis=1)\n",
    "    combined_data = combined_data.append(combined_subset)\n",
    "    \n",
    "combined_data = combined_data[['time', 'device id', 'trip id',\n",
    "                               'Latitude', 'Longitude', 'GPS_Speed',\n",
    "                               'wiper', 'camera_rain', 'gage']]"
   ]
  },
  {
   "cell_type": "markdown",
   "metadata": {},
   "source": [
    "### Filter vehicle data"
   ]
  },
  {
   "cell_type": "code",
   "execution_count": 7,
   "metadata": {},
   "outputs": [],
   "source": [
    "ymin = radar_panel.major_axis.min()\n",
    "ymax = radar_panel.major_axis.max()\n",
    "xmin = radar_panel.minor_axis.min()\n",
    "xmax = radar_panel.minor_axis.max()\n",
    "\n",
    "filt_comb = combined_data[(combined_data['Latitude'] > ymin) & (combined_data['Latitude'] < ymax) &\n",
    "        (combined_data['Longitude'] > xmin) & (combined_data['Longitude'] < xmax)]\n",
    "filt_comb = filt_comb[filt_comb['GPS_Speed'] > 1]\n",
    "invalid = [10150, 10151, 10589, 10139, 10615]\n",
    "filt_comb = filt_comb[~filt_comb['device id'].isin(invalid)]\n",
    "filt_comb = filt_comb.dropna()"
   ]
  },
  {
   "cell_type": "markdown",
   "metadata": {},
   "source": [
    "### Get corresponding radar data"
   ]
  },
  {
   "cell_type": "code",
   "execution_count": 8,
   "metadata": {},
   "outputs": [],
   "source": [
    "z0, v_tdist, v_xydist = concatenation.panel_spacetime_index(radar_panel, filt_comb['time'].values,\n",
    "                                              filt_comb[['Longitude', 'Latitude']].values, return_distance=True)\n",
    "r = radar_panel.values[z0[0], z0[1], z0[2]]\n",
    "filt_comb['radar'] = r\n",
    "filt_comb['radar'] = filt_comb['radar'].fillna(0)"
   ]
  },
  {
   "cell_type": "code",
   "execution_count": 9,
   "metadata": {},
   "outputs": [
    {
     "data": {
      "text/html": [
       "<div>\n",
       "<style scoped>\n",
       "    .dataframe tbody tr th:only-of-type {\n",
       "        vertical-align: middle;\n",
       "    }\n",
       "\n",
       "    .dataframe tbody tr th {\n",
       "        vertical-align: top;\n",
       "    }\n",
       "\n",
       "    .dataframe thead th {\n",
       "        text-align: right;\n",
       "    }\n",
       "</style>\n",
       "<table border=\"1\" class=\"dataframe\">\n",
       "  <thead>\n",
       "    <tr style=\"text-align: right;\">\n",
       "      <th></th>\n",
       "      <th>Gage</th>\n",
       "      <th>Radar</th>\n",
       "      <th>Wiper</th>\n",
       "    </tr>\n",
       "  </thead>\n",
       "  <tbody>\n",
       "    <tr>\n",
       "      <th>TPR</th>\n",
       "      <td>0.951835</td>\n",
       "      <td>0.890219</td>\n",
       "      <td>0.956704</td>\n",
       "    </tr>\n",
       "    <tr>\n",
       "      <th>TNR</th>\n",
       "      <td>0.659293</td>\n",
       "      <td>0.905526</td>\n",
       "      <td>0.966524</td>\n",
       "    </tr>\n",
       "  </tbody>\n",
       "</table>\n",
       "</div>"
      ],
      "text/plain": [
       "         Gage     Radar     Wiper\n",
       "TPR  0.951835  0.890219  0.956704\n",
       "TNR  0.659293  0.905526  0.966524"
      ]
     },
     "execution_count": 9,
     "metadata": {},
     "output_type": "execute_result"
    }
   ],
   "source": [
    "perf = {'Wiper' : {}, 'Radar' : {}, 'Gage' : {}}\n",
    "\n",
    "alpha = 0.0\n",
    "perf['Wiper']['TPR'] = ((filt_comb['wiper'] > alpha) & (filt_comb['camera_rain'] != 0)).sum() / (filt_comb['wiper'] > alpha).sum()\n",
    "perf['Wiper']['TNR'] = ((filt_comb['wiper'] <= alpha) & (filt_comb['camera_rain'] == 0)).sum() / (filt_comb['wiper'] <= alpha).sum()\n",
    "perf['Radar']['TPR'] = ((filt_comb['radar'] > 0.0) & (filt_comb['camera_rain'] != 0)).sum() / (filt_comb['radar'] > 0.0).sum()\n",
    "perf['Radar']['TNR'] = ((filt_comb['radar'] == 0.0) & (filt_comb['camera_rain'] == 0)).sum() / (filt_comb['radar'] == 0.0).sum()\n",
    "perf['Gage']['TPR'] = ((filt_comb['gage'] > 0.0) & (filt_comb['camera_rain'] != 0)).sum() / (filt_comb['gage'] > 0.0).sum()\n",
    "perf['Gage']['TNR'] = ((filt_comb['gage'] == 0.0) & (filt_comb['camera_rain'] == 0)).sum() / (filt_comb['gage'] == 0.0).sum()\n",
    "pd.DataFrame.from_dict(perf).sort_index(ascending=False)"
   ]
  },
  {
   "cell_type": "code",
   "execution_count": 10,
   "metadata": {},
   "outputs": [
    {
     "name": "stdout",
     "output_type": "stream",
     "text": [
      "TPR Difference between wiper and radar:  6.6484435925530665\n",
      "TNR Difference between wiper and radar:  6.099805855072004\n"
     ]
    }
   ],
   "source": [
    "# Percent difference in TPR between wiper and radar\n",
    "print('TPR Difference between wiper and radar: ', 100*((((filt_comb['wiper'] > 0.0) & (filt_comb['camera_rain'] != 0)).sum() / (filt_comb['wiper'] > 0.0).sum()) - \\\n",
    "(((filt_comb['radar'] > 0.0) & (filt_comb['camera_rain'] != 0)).sum() / (filt_comb['radar'] > 0.0).sum())))\n",
    "print('TNR Difference between wiper and radar: ', 100*((((filt_comb['wiper'] == 0.0) & (filt_comb['camera_rain'] == 0)).sum() / (filt_comb['wiper'] == 0.0).sum()) - \\\n",
    "(((filt_comb['radar'] == 0.0) & (filt_comb['camera_rain'] == 0)).sum() / (filt_comb['radar'] == 0.0).sum())))"
   ]
  },
  {
   "cell_type": "code",
   "execution_count": 11,
   "metadata": {},
   "outputs": [
    {
     "data": {
      "text/plain": [
       "<matplotlib.legend.Legend at 0x123cc7c18>"
      ]
     },
     "execution_count": 11,
     "metadata": {},
     "output_type": "execute_result"
    },
    {
     "data": {
      "image/png": "[encoded data removed]",
      "text/plain": [
       "<matplotlib.figure.Figure at 0x1238fd1d0>"
      ]
     },
     "metadata": {},
     "output_type": "display_data"
    }
   ],
   "source": [
    "fig, ax = plt.subplots(figsize=(8,8))\n",
    "\n",
    "xw, yw, _ = roc_curve(filt_comb['camera_rain'].values, filt_comb['wiper'].values, 1)\n",
    "xr, yr, _ = roc_curve(filt_comb['camera_rain'].values, filt_comb['radar'].values, 1)\n",
    "xg, yg, _ = roc_curve(filt_comb['camera_rain'].values, filt_comb['gage'].values, 1)\n",
    "\n",
    "w_auc = auc(xw, yw)\n",
    "r_auc = auc(xr, yr)\n",
    "g_auc = auc(xg, yg)\n",
    "\n",
    "plt.plot(xw, yw, label='wiper, auc={0:.3f}'.format(w_auc))\n",
    "plt.plot(xr, yr, label='radar, auc={0:.3f}'.format(r_auc))\n",
    "plt.plot(xg, yg, label='gage, auc={0:.3f}'.format(g_auc))\n",
    "\n",
    "plt.title('ROC (High temporal resolution)', fontsize=14)\n",
    "plt.legend(fontsize=14)"
   ]
  },
  {
   "cell_type": "code",
   "execution_count": null,
   "metadata": {},
   "outputs": [],
   "source": []
  }
 ],
 "metadata": {
  "kernelspec": {
   "display_name": "Python 3",
   "language": "python",
   "name": "python3"
  },
  "language_info": {
   "codemirror_mode": {
    "name": "ipython",
    "version": 3
   },
   "file_extension": ".py",
   "mimetype": "text/x-python",
   "name": "python",
   "nbconvert_exporter": "python",
   "pygments_lexer": "ipython3",
   "version": "3.6.0"
  }
 },
 "nbformat": 4,
 "nbformat_minor": 2
}
